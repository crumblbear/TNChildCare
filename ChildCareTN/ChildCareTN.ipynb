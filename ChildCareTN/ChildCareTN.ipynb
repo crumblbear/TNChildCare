{
 "cells": [
  {
   "cell_type": "code",
   "execution_count": null,
   "metadata": {},
   "outputs": [],
   "source": [
    "import pandas as pd\n",
    "import requests\n",
    "import json\n",
    "import credentials as cred\n",
    "from dotenv import load_dotenv\n",
    "import os \n",
    "\n",
    "headers = {\n",
    "    'Authorization': os.environ.get('AUTHORIZATION'),\n",
    "    'Accept': 'application/json',\n",
    "    'Content-type': 'application/json',\n",
    "}\n",
    "\n",
    "data = {\n",
    "    'app_token': os.environ.get('APPTOKEN'),\n",
    "}\n",
    "response = requests.get('https://www.chattadata.org/resource/3gj8-3ijm.json?county=HAMILTON', data=data)\n",
    "response.raise_for_status()\n",
    "\n",
    "dataframe = pd.json_normalize(response.json())"
   ]
  },
  {
   "attachments": {},
   "cell_type": "markdown",
   "metadata": {},
   "source": [
    "### Transformation Notes\n",
    "\n",
    "- Converting date fields to a date/time format\n",
    "- Separating the Location Point column into individual Latitude and Longitude fields\n",
    "- Extracting the alpha interavals from the age columns to create number and category columns\n",
    "- Standardizing minimum age into a yearly basis\n",
    "- Standardizing the format of Agency Name\n",
    "- Converting Open and Close Times into military format since they use AM/PM"
   ]
  },
  {
   "cell_type": "code",
   "execution_count": null,
   "metadata": {},
   "outputs": [],
   "source": [
    "dataframe[['license_approval_date', 'date_open']] = dataframe[['license_approval_date', 'date_open']].apply(pd.to_datetime, yearfirst=True, unit='ns', errors='coerce') #Some dates are invalid so set errors to 'coerce' to fill with NaN\n",
    "\n",
    "dataframe[['long', 'lat']] = dataframe['location_point.coordinates'].apply(lambda x: pd.Series(x))\n",
    "\n",
    "dataframe[['minimum_age_num', 'minimum_age_cat']] = dataframe['minimum_age'].str.extract(r'(\\d+)([a-zA-Z]+)')\n",
    "dataframe[['maximim_age_num', 'maximum_age_cat']] = dataframe['maximum_age'].str.extract(r'(\\d+)([a-zA-Z]+)')\n",
    "\n",
    "dataframe.loc[dataframe['minimum_age_cat'] == 'WK', 'minumum_age_num'] = dataframe['minimum_age_num'].astype(int) / 52\n",
    "dataframe.loc[dataframe['minimum_age_cat'] == 'MO', 'minumum_age_num'] = dataframe['minimum_age_num'].astype(int) / 12\n",
    "dataframe.loc[dataframe['minimum_age_cat'] == 'YR', 'minumum_age_num'] = dataframe['minimum_age_num'].astype(int)\n",
    "\n",
    "dataframe['agency_name'] = dataframe['agency_name'].str.title()\n",
    "\n",
    "dataframe['open_time'] = pd.to_datetime(dataframe['open_time'], format='%I:%M %p').dt.strftime('%H:%M')\n",
    "dataframe['close_time'] = pd.to_datetime(dataframe['close_time'], format='%I:%M %p').dt.strftime('%H:%M')"
   ]
  },
  {
   "attachments": {},
   "cell_type": "markdown",
   "metadata": {},
   "source": [
    "### Transformation Notes (Method Chaining)\n",
    "\n",
    "- This chain method is dropping unncessary columns\n",
    "- Corrects the mailing state column name\n",
    "- Converts Ys and Ns to 1s and 0s\n",
    "- Creates a Unique column per Agency and drops duplicate records"
   ]
  },
  {
   "cell_type": "code",
   "execution_count": null,
   "metadata": {},
   "outputs": [],
   "source": [
    "final_df = (dataframe\n",
    ".drop(columns=['agency_phone', 'agency_contact', 'mailing_street', 'mailing_city', 'mialing_state', 'mailing_zip', 'no_smoking', 'no_dogs', 'no_cats', 'no_pets', 'child_and_adult_care_food', 'program_evaluator', 'program_evaluator_phone_number', \n",
    "    'report_date_beginning_of_month', 'location_point.coordinates', 'license_approval_date', 'unique_id']) # Mailing state is misspelled in the dataset\n",
    ".replace(['Y', 'N'], [1, 0])\n",
    ".assign(agency_name_age = dataframe['agency_name'].astype(str) + dataframe['minimum_age'].astype(str))\n",
    ".drop_duplicates(subset=['agency_name_age'], keep='last')\n",
    ".drop(columns=['agency_name_age'])\n",
    ".reset_index(drop=True)\n",
    ")"
   ]
  },
  {
   "cell_type": "code",
   "execution_count": null,
   "metadata": {},
   "outputs": [],
   "source": [
    "final_df.to_csv('tn_child_care.csv', index=False)"
   ]
  }
 ],
 "metadata": {
  "kernelspec": {
   "display_name": "webdevelopment",
   "language": "python",
   "name": "python3"
  },
  "language_info": {
   "codemirror_mode": {
    "name": "ipython",
    "version": 3
   },
   "file_extension": ".py",
   "mimetype": "text/x-python",
   "name": "python",
   "nbconvert_exporter": "python",
   "pygments_lexer": "ipython3",
   "version": "3.11.2"
  },
  "orig_nbformat": 4,
  "vscode": {
   "interpreter": {
    "hash": "2464efbdd7a80b96dce7e95bb5ebbc3c7cd4803941c43dbd0a99b82f560d343a"
   }
  }
 },
 "nbformat": 4,
 "nbformat_minor": 2
}
